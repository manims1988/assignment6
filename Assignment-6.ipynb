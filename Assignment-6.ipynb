{
 "cells": [
  {
   "cell_type": "markdown",
   "id": "05fc3b27-8be6-482b-9fba-fa7d460ce91d",
   "metadata": {},
   "source": [
    "Q.1. What are keywords in python? Using the keyword library, print all the python keywords."
   ]
  },
  {
   "cell_type": "code",
   "execution_count": 4,
   "id": "5b51de5a-b173-43fd-9c3b-a5807c1d5015",
   "metadata": {},
   "outputs": [
    {
     "name": "stdout",
     "output_type": "stream",
     "text": [
      "['False', 'None', 'True', 'and', 'as', 'assert', 'async', 'await', 'break', 'class', 'continue', 'def', 'del', 'elif', 'else', 'except', 'finally', 'for', 'from', 'global', 'if', 'import', 'in', 'is', 'lambda', 'nonlocal', 'not', 'or', 'pass', 'raise', 'return', 'try', 'while', 'with', 'yield']\n"
     ]
    }
   ],
   "source": [
    "# Answer \n",
    "\n",
    "import keyword\n",
    "print(keyword.kwlist)"
   ]
  },
  {
   "cell_type": "markdown",
   "id": "de02f032-d031-4319-b835-54d383e3b6e2",
   "metadata": {},
   "source": [
    "Q.2. What are the rules to create variables in python?"
   ]
  },
  {
   "cell_type": "code",
   "execution_count": 8,
   "id": "205bc23f-b3bf-4605-8211-8e17a46e14a7",
   "metadata": {},
   "outputs": [
    {
     "name": "stdout",
     "output_type": "stream",
     "text": [
      "Basic rules to create variables\n",
      "1. we can use upper and lower case of alphabets\n",
      "2. underscores are allowed in the beginning of the word\n",
      "3. need to avoid digits, reserved keywords and special characters\n",
      "some examples\n",
      "python\n",
      "java\n",
      "mojo\n"
     ]
    }
   ],
   "source": [
    "# Answer \n",
    "\n",
    "print('Basic rules to create variables')\n",
    "print('1. we can use upper and lower case of alphabets')\n",
    "print('2. underscores are allowed in the beginning of the word')\n",
    "print('3. need to avoid digits, reserved keywords and special characters')\n",
    "print('some examples')\n",
    "name = 'python'\n",
    "Name = 'java'\n",
    "_name = 'mojo'\n",
    "print(name)\n",
    "print(Name)\n",
    "print(_name)"
   ]
  },
  {
   "cell_type": "markdown",
   "id": "67d43afb-ea52-4288-9b72-6aca50a0cc09",
   "metadata": {},
   "source": [
    "Q.3. What are the standards and conventions followed for the nomenclature of variables in\n",
    "python to improve code readability and maintainability?"
   ]
  },
  {
   "cell_type": "code",
   "execution_count": 10,
   "id": "fba51d6f-43a8-4c93-8a6d-fa6d52311c8d",
   "metadata": {},
   "outputs": [
    {
     "name": "stdout",
     "output_type": "stream",
     "text": [
      "standard definition of variables\n",
      "1. need to follow pep8 rules\n",
      "2. variables should be understoodable if we debug the code\n",
      "3. seperate words using underscores\n",
      "4. avoid single characters and upper case for variables\n",
      "some examples\n",
      "python\n",
      "java\n",
      "mojo\n"
     ]
    }
   ],
   "source": [
    "# Answer \n",
    "\n",
    "print('standard definition of variables')\n",
    "print('1. need to follow pep8 rules')\n",
    "print('2. variables should be understoodable if we debug the code')\n",
    "print('3. seperate words using underscores')\n",
    "print('4. avoid single characters and upper case for variables')\n",
    "print('some examples')\n",
    "easy_program = 'python'\n",
    "java_program = 'java'\n",
    "fast_language = 'mojo'\n",
    "print(easy_program)\n",
    "print(java_program)\n",
    "print(fast_language)"
   ]
  },
  {
   "cell_type": "markdown",
   "id": "e7333324-27f6-4b90-b838-6c1fab0f3b5c",
   "metadata": {},
   "source": [
    "Q.4. What will happen if a keyword is used as a variable name?"
   ]
  },
  {
   "cell_type": "code",
   "execution_count": 12,
   "id": "60db81d0-74c5-4007-a336-8284cb7eccf4",
   "metadata": {},
   "outputs": [
    {
     "ename": "SyntaxError",
     "evalue": "invalid syntax (1256881024.py, line 3)",
     "output_type": "error",
     "traceback": [
      "\u001b[0;36m  Cell \u001b[0;32mIn [12], line 3\u001b[0;36m\u001b[0m\n\u001b[0;31m    for = 45\u001b[0m\n\u001b[0m        ^\u001b[0m\n\u001b[0;31mSyntaxError\u001b[0m\u001b[0;31m:\u001b[0m invalid syntax\n"
     ]
    }
   ],
   "source": [
    "# Answer \n",
    "print('it will throw the error because these are reserved keywords. We cannot use these as regular variables ')\n",
    "\n",
    "for = 45\n",
    "while = 54\n",
    "print(for, while)\n"
   ]
  },
  {
   "cell_type": "markdown",
   "id": "c95a9520-eeda-4700-a7cb-4d157f308f76",
   "metadata": {},
   "source": [
    "Q.5. For what purpose def keyword is used?"
   ]
  },
  {
   "cell_type": "code",
   "execution_count": 13,
   "id": "fdf2b621-99d3-4333-9abd-47f2bd858783",
   "metadata": {},
   "outputs": [
    {
     "name": "stdout",
     "output_type": "stream",
     "text": [
      "\"def\" keyword is used to create functions or function definition\n"
     ]
    }
   ],
   "source": [
    "# Answer \n",
    "\n",
    "print('\"def\" keyword is used to create functions or to start function definition')"
   ]
  },
  {
   "cell_type": "markdown",
   "id": "624108aa-5c7e-4da7-ad51-27d2493116c8",
   "metadata": {},
   "source": [
    "Q.6. What is the operation of this special character ‘\\’?"
   ]
  },
  {
   "cell_type": "code",
   "execution_count": 17,
   "id": "1b61db91-6e48-4177-af98-a1055c6e049c",
   "metadata": {},
   "outputs": [
    {
     "name": "stdout",
     "output_type": "stream",
     "text": [
      "its a backslash or speical characters, it can able to perform some operations based upon the input\n",
      "some examples\n",
      "hi 'python'\n",
      "hi\n",
      "python\n",
      "hi\tpython\n"
     ]
    }
   ],
   "source": [
    "# Answer \n",
    "\n",
    "print('its a backslash or speical characters, it can able to perform some operations based upon the input')\n",
    "print('some examples')\n",
    "print('hi \\'python\\'')\n",
    "print('hi\\npython')\n",
    "print('hi\\tpython')"
   ]
  },
  {
   "cell_type": "markdown",
   "id": "969b84e0-668a-4f9e-8837-fc746cd67955",
   "metadata": {},
   "source": [
    "Q.7. Give an example of the following conditions:\n",
    "(i) Homogeneous list\n",
    "(ii) Heterogeneous set\n",
    "(iii) Homogeneous tuple"
   ]
  },
  {
   "cell_type": "code",
   "execution_count": 25,
   "id": "8e887e8a-2c58-432c-aabf-75bf485feed4",
   "metadata": {},
   "outputs": [
    {
     "name": "stdout",
     "output_type": "stream",
     "text": [
      "(i) Homogeneous list\n",
      "<class 'list'>\n",
      "[1, 2, 3, 4, 5]\n",
      "(ii) Heterogeneous set\n",
      "<class 'set'>\n",
      "{1, 2.0, 'hi', (4+5j)}\n",
      "(iii) Homogeneous tuple\n",
      "<class 'tuple'>\n",
      "(6, 7, 8, 9, 10)\n"
     ]
    }
   ],
   "source": [
    "# Answer \n",
    "\n",
    "print('(i) Homogeneous list')\n",
    "list_homogeneous = [1,2,3,4,5]\n",
    "print(type(list_homogeneous))\n",
    "print(list_homogeneous)\n",
    "\n",
    "print('(ii) Heterogeneous set')\n",
    "set_heterogeneous = {'hi', 1, 2.0, 4+5j}\n",
    "print(type(set_heterogeneous))\n",
    "print(set_heterogeneous)\n",
    "\n",
    "print('(iii) Homogeneous tuple')\n",
    "tuple_homogeneous = (6,7,8,9,10)\n",
    "print(type(tuple_homogeneous))\n",
    "print(tuple_homogeneous)\n"
   ]
  },
  {
   "cell_type": "markdown",
   "id": "88919669-e27b-4815-aff5-b7c100c39db7",
   "metadata": {},
   "source": [
    "Q.8. Explain the mutable and immutable data types with proper explanation & examples."
   ]
  },
  {
   "cell_type": "code",
   "execution_count": 44,
   "id": "c639975f-ce3c-4501-995a-9625c2b6d58d",
   "metadata": {},
   "outputs": [
    {
     "name": "stdout",
     "output_type": "stream",
     "text": [
      "Types of Mutable data types \n",
      "1. Lists (list) \n",
      "2. Sets (set) \n",
      "3. Dictionaries (dict) \n",
      "\n",
      "Types of Immutable data types \n",
      "1. Tuples (tuple) \n",
      "2. Frozen Sets (frozenset) \n",
      "\n",
      "Main difference is \n",
      "1. Allowed to modify in mutable data types but not allowed in immutable data types \n",
      "2. Memory usage is high for mutable data types and low in immutable data types \n",
      "3. mutable data types shares same memory ID but whereas different memory ID for immutable data types \n",
      "\n",
      "some examples on mutable data types\n",
      "Initial values of list, set, dict\n",
      "[1, 2, 3]\n",
      "{4, 5, 6}\n",
      "{'seven': 7, 'eight': 8, 'nine': 9} \n",
      "\n",
      "modified values of list, set, dict\n",
      "[1, 2, 3, 4]\n",
      "{4, 5, 6, 7}\n",
      "{'seven': 7, 'eight': 8, 'nine': 9, 'ten': 10} \n",
      "\n",
      "some examples on immutable data types\n",
      "(1, 2, 3, 4)\n",
      "frozenset({1, 2.0, 'hi', (4+5j)})\n",
      "we cannot modify tuple and frozenset once we declared\n"
     ]
    }
   ],
   "source": [
    "# Answer \n",
    "\n",
    "print('Types of Mutable data types \\n1. Lists (list) \\n2. Sets (set) \\n3. Dictionaries (dict) \\n')\n",
    "print('Types of Immutable data types \\n1. Tuples (tuple) \\n2. Frozen Sets (frozenset) \\n')\n",
    "print('Main difference is \\n1. Allowed to modify in mutable data types but not allowed in immutable data types \\n2. Memory usage is high for mutable data types and low in immutable data types \\n3. mutable data types shares same memory ID but whereas different memory ID for immutable data types \\n')\n",
    "print('some examples on mutable data types')\n",
    "first_list = [1,2,3]\n",
    "first_set = {4,5,6}\n",
    "first_dict = {'seven':7, 'eight':8, 'nine':9}\n",
    "print('Initial values of list, set, dict')\n",
    "print(first_list)\n",
    "print(first_set)\n",
    "print(first_dict,'\\n')\n",
    "first_list.append(4)\n",
    "first_set.add(7)\n",
    "first_dict['ten'] = 10\n",
    "print('modified values of list, set, dict')\n",
    "print(first_list)\n",
    "print(first_set)\n",
    "print(first_dict,'\\n')\n",
    "print('some examples on immutable data types')\n",
    "first_tuple = (1,2,3,4)\n",
    "first_frozenset = frozenset(['hi',1,2.0,4+5j])\n",
    "print(first_tuple)\n",
    "print(first_frozenset)\n",
    "print('we cannot modify tuple and frozenset once we declared')"
   ]
  },
  {
   "cell_type": "markdown",
   "id": "9d75dc67-9f44-46fe-8f6d-a86d83d2e255",
   "metadata": {},
   "source": [
    "Q.9. Write a code to create the given structure using only for loop.\n",
    "<p style=\"font-size:14px;\">* </p>\n",
    "<p style=\"font-size:14px;\">*** </p>\n",
    "<p style=\"font-size:14px;\">***** </p>\n",
    "<p style=\"font-size:14px;\">******* </p>\n",
    "<p style=\"font-size:14px;\">********* </p>"
   ]
  },
  {
   "cell_type": "code",
   "execution_count": 68,
   "id": "6f976aea-7db5-435b-982b-c69e254e8d49",
   "metadata": {},
   "outputs": [
    {
     "name": "stdout",
     "output_type": "stream",
     "text": [
      "    *\n",
      "   ***\n",
      "  *****\n",
      " *******\n",
      "*********\n"
     ]
    }
   ],
   "source": [
    "# Answer \n",
    "\n",
    "for i in range(1,6):\n",
    "    for _ in range(1,6-i):\n",
    "        print(' ',end='')\n",
    "    for _ in range(i):\n",
    "        print('*',end='')\n",
    "    for _ in range(i-1):\n",
    "        print('*',end='')\n",
    "    print()"
   ]
  },
  {
   "cell_type": "code",
   "execution_count": null,
   "id": "e00aecc0-23b8-47ca-85cf-eff524c08cb8",
   "metadata": {},
   "outputs": [],
   "source": [
    "Q.10. Write a code to create the given structure using while loop.\n",
    "|||||||||\n",
    "|||||||\n",
    "|||||\n",
    "|||\n",
    "|"
   ]
  },
  {
   "cell_type": "code",
   "execution_count": 83,
   "id": "5e3bee70-b094-4124-a0c1-bcba75391da3",
   "metadata": {},
   "outputs": [
    {
     "name": "stdout",
     "output_type": "stream",
     "text": [
      " |||||||||\n",
      "  |||||||\n",
      "   |||||\n",
      "    |||\n",
      "     |\n"
     ]
    }
   ],
   "source": [
    "# Answer \n",
    "\n",
    "j = 1\n",
    "i = 5\n",
    "while i > 0:\n",
    "    i = i - 1\n",
    "    for _ in range(j):\n",
    "        print(' ',end='')\n",
    "    for _ in range(i+1):\n",
    "        print('|',end='')\n",
    "    for _ in range(i):\n",
    "        print('|',end='')\n",
    "    j = j + 1\n",
    "    print()   \n",
    "    "
   ]
  }
 ],
 "metadata": {
  "kernelspec": {
   "display_name": "Python 3 (ipykernel)",
   "language": "python",
   "name": "python3"
  },
  "language_info": {
   "codemirror_mode": {
    "name": "ipython",
    "version": 3
   },
   "file_extension": ".py",
   "mimetype": "text/x-python",
   "name": "python",
   "nbconvert_exporter": "python",
   "pygments_lexer": "ipython3",
   "version": "3.10.6"
  }
 },
 "nbformat": 4,
 "nbformat_minor": 5
}
